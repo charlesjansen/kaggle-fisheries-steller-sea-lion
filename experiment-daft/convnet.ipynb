{
 "cells": [
  {
   "cell_type": "markdown",
   "metadata": {},
   "source": [
    "## Importing Packages"
   ]
  },
  {
   "cell_type": "code",
   "execution_count": 1,
   "metadata": {
    "collapsed": true,
    "scrolled": true
   },
   "outputs": [],
   "source": [
    "seal = ['adult_males', 'subadult males', 'adult females', 'juveniles', 'pups']\n",
    "rgb = [(243,8,5), (244,8,242), (87,46,10), (25,56,176), (38,174,21)]  \n",
    "cls = [0, 1, 2, 3, 4]\n",
    "hex = ['#f30805', '#f408f2', '#572e0a', '#1938b0', '#26ae15']"
   ]
  },
  {
   "cell_type": "code",
   "execution_count": 2,
   "metadata": {
    "collapsed": true
   },
   "outputs": [],
   "source": [
    "seal2rgb = dict(zip(seal,rgb))\n",
    "cls2rgb = dict(zip(cls, rgb))\n",
    "cls2hex = dict(zip(cls, hex))\n",
    "seal2cls = dict(zip(seal,cls))\n",
    "cls2seal = dict(zip(cls,seal))\n",
    "rgb2cls = dict(zip(rgb, cls))"
   ]
  },
  {
   "cell_type": "code",
   "execution_count": 3,
   "metadata": {
    "collapsed": false
   },
   "outputs": [
    {
     "name": "stderr",
     "output_type": "stream",
     "text": [
      "Using cuDNN version 6021 on context None\n",
      "Mapped name None to device cuda0: GeForce GTX 1070 (0000:01:00.0)\n",
      "Using Theano backend.\n"
     ]
    }
   ],
   "source": [
    "%matplotlib inline\n",
    "import utils; reload(utils)\n",
    "from utils import *\n",
    "from __future__ import division, print_function"
   ]
  },
  {
   "cell_type": "code",
   "execution_count": 4,
   "metadata": {
    "collapsed": false
   },
   "outputs": [
    {
     "data": {
      "text/plain": [
       "'tf'"
      ]
     },
     "execution_count": 4,
     "metadata": {},
     "output_type": "execute_result"
    }
   ],
   "source": [
    "K.image_dim_ordering()"
   ]
  },
  {
   "cell_type": "code",
   "execution_count": 5,
   "metadata": {
    "collapsed": false
   },
   "outputs": [],
   "source": [
    "import keras\n",
    "from keras.models import Sequential\n",
    "from keras.layers import Dense, Dropout, Flatten\n",
    "from keras.layers import Conv2D, MaxPooling2D, UpSampling2D, GlobalAveragePooling2D, Input\n",
    "from keras.models import Model\n",
    "from keras import backend as K\n",
    "from keras.layers import Activation\n",
    "from keras.layers import BatchNormalization\n",
    "from keras.models import load_model\n",
    "from keras.preprocessing.image import ImageDataGenerator\n",
    "from PIL import  Image\n",
    "import numpy as np\n",
    "import pandas as pd\n",
    "import sys\n",
    "import os\n",
    "import matplotlib.pyplot as plt\n",
    "\n",
    "n_classes= 5\n",
    "batch_size= 4\n",
    "epochs= 100\n",
    "image_size= 360\n",
    "img_sz = (512,512)\n",
    "model_name= 'cnn_regression_moi'"
   ]
  },
  {
   "cell_type": "markdown",
   "metadata": {},
   "source": [
    "### Loading file names"
   ]
  },
  {
   "cell_type": "code",
   "execution_count": 6,
   "metadata": {
    "collapsed": true
   },
   "outputs": [],
   "source": [
    "trn_ids = pd.read_csv('../IDsTrainingSet.txt')\n",
    "tst_ids = pd.read_csv('../IDsforBlending.txt')\n",
    "trn_ids = np.array(trn_ids.columns)\n",
    "tst_ids = np.array(tst_ids.columns)\n",
    "ids = np.hstack([trn_ids,tst_ids])\n",
    "fnames = ['train_images_512x512/'+str(int(i))+'.png' for i in trn_ids]\n",
    "tnames = ['train_images_512x512/'+str(int(i))+'.png' for i in tst_ids]\n",
    "names = fnames+tnames"
   ]
  },
  {
   "cell_type": "code",
   "execution_count": 7,
   "metadata": {
    "collapsed": false
   },
   "outputs": [
    {
     "name": "stdout",
     "output_type": "stream",
     "text": [
      "['train_images_512x512/1.png', 'train_images_512x512/5.png', 'train_images_512x512/8.png']\n"
     ]
    }
   ],
   "source": [
    "# fnames = glob.glob(frames_path+'*.jpg')\n",
    "print (fnames[0:3])"
   ]
  },
  {
   "cell_type": "code",
   "execution_count": 8,
   "metadata": {
    "collapsed": false
   },
   "outputs": [
    {
     "name": "stdout",
     "output_type": "stream",
     "text": [
      "['train_images_512x512/513.png', 'train_images_512x512/2.png', 'train_images_512x512/516.png']\n"
     ]
    }
   ],
   "source": [
    "# dnames = [dot_path+os.path.basename(fn)[:-4]+'.jpg' for fn in fnames]\n",
    "print (tnames[0:3])"
   ]
  },
  {
   "cell_type": "code",
   "execution_count": 9,
   "metadata": {
    "collapsed": true
   },
   "outputs": [],
   "source": [
    "def open_image(fn): return np.array(Image.open(fn).resize(img_sz, Image.NEAREST))"
   ]
  },
  {
   "cell_type": "code",
   "execution_count": 11,
   "metadata": {
    "collapsed": false
   },
   "outputs": [
    {
     "data": {
      "text/plain": [
       "((657, 512, 512, 3), (250, 512, 512, 3))"
      ]
     },
     "execution_count": 11,
     "metadata": {},
     "output_type": "execute_result"
    }
   ],
   "source": [
    "# training and blending split\n",
    "trn_imgs = np.stack([open_image(fn) for fn in fnames])\n",
    "val_imgs = np.stack([open_image(fn) for fn in tnames])\n",
    "trn_imgs.shape, val_imgs.shape"
   ]
  },
  {
   "cell_type": "code",
   "execution_count": 12,
   "metadata": {
    "collapsed": false
   },
   "outputs": [
    {
     "data": {
      "text/plain": [
       "(907, 512, 512, 3)"
      ]
     },
     "execution_count": 12,
     "metadata": {},
     "output_type": "execute_result"
    }
   ],
   "source": [
    "# combining both for preprocessing\n",
    "imgs = np.vstack([trn_imgs,val_imgs])\n",
    "imgs.shape"
   ]
  },
  {
   "cell_type": "code",
   "execution_count": 13,
   "metadata": {
    "collapsed": true
   },
   "outputs": [],
   "source": [
    "imgs = imgs/255."
   ]
  },
  {
   "cell_type": "code",
   "execution_count": 14,
   "metadata": {
    "collapsed": false
   },
   "outputs": [
    {
     "data": {
      "text/plain": [
       "(0.46482176936529301, 0.18052158503944921)"
      ]
     },
     "execution_count": 14,
     "metadata": {},
     "output_type": "execute_result"
    }
   ],
   "source": [
    "mean = imgs.mean() \n",
    "std = imgs.std()\n",
    "mean, std"
   ]
  },
  {
   "cell_type": "code",
   "execution_count": 15,
   "metadata": {
    "collapsed": true
   },
   "outputs": [],
   "source": [
    "mean = 0.46482176936529301\n",
    "std = 0.18052158503944921"
   ]
  },
  {
   "cell_type": "code",
   "execution_count": 16,
   "metadata": {
    "collapsed": true
   },
   "outputs": [],
   "source": [
    "imgs-=mean\n",
    "imgs/=std"
   ]
  },
  {
   "cell_type": "code",
   "execution_count": 17,
   "metadata": {
    "collapsed": false
   },
   "outputs": [],
   "source": [
    "imgs = np.asarray(imgs)"
   ]
  },
  {
   "cell_type": "markdown",
   "metadata": {},
   "source": [
    "## Labels"
   ]
  },
  {
   "cell_type": "code",
   "execution_count": 18,
   "metadata": {
    "collapsed": false
   },
   "outputs": [
    {
     "name": "stderr",
     "output_type": "stream",
     "text": [
      "/home/alibaba/anaconda2/lib/python2.7/site-packages/ipykernel/__main__.py:4: DeprecationWarning: \n",
      ".ix is deprecated. Please use\n",
      ".loc for label based indexing or\n",
      ".iloc for positional indexing\n",
      "\n",
      "See the documentation here:\n",
      "http://pandas.pydata.org/pandas-docs/stable/indexing.html#deprecate_ix\n"
     ]
    }
   ],
   "source": [
    "df= pd.read_csv('train.csv')\n",
    "y_list=[]\n",
    "for i in ids: \n",
    "    row= df.ix[int(i)] \n",
    "    y_row= np.zeros((5))\n",
    "    y_row[0]= row['adult_males']\n",
    "    y_row[1]= row['subadult_males']\n",
    "    y_row[2]= row['adult_females']\n",
    "    y_row[3]= row['juveniles']\n",
    "    y_row[4]= row['pups']\n",
    "    y_list.append(y_row)\n",
    "\n",
    "y_train= np.asarray(y_list)"
   ]
  },
  {
   "cell_type": "code",
   "execution_count": 19,
   "metadata": {
    "collapsed": false
   },
   "outputs": [
    {
     "data": {
      "text/plain": [
       "(907, 5)"
      ]
     },
     "execution_count": 19,
     "metadata": {},
     "output_type": "execute_result"
    }
   ],
   "source": [
    "y_train.shape"
   ]
  },
  {
   "cell_type": "markdown",
   "metadata": {
    "heading_collapsed": true
   },
   "source": [
    "## Generator"
   ]
  },
  {
   "cell_type": "code",
   "execution_count": 20,
   "metadata": {
    "collapsed": true,
    "hidden": true
   },
   "outputs": [],
   "source": [
    "class BatchIndices(object):\n",
    "    def __init__(self, n, bs, shuffle=False):\n",
    "        self.n,self.bs,self.shuffle = n,bs,shuffle\n",
    "        self.lock = threading.Lock()\n",
    "        self.reset()\n",
    "\n",
    "    def reset(self):\n",
    "        self.idxs = (np.random.permutation(self.n) \n",
    "                     if self.shuffle else np.arange(0, self.n))\n",
    "        self.curr = 0\n",
    "\n",
    "    def __next__(self):\n",
    "        with self.lock:\n",
    "            if self.curr >= self.n: self.reset()\n",
    "            ni = min(self.bs, self.n-self.curr)\n",
    "            res = self.idxs[self.curr:self.curr+ni]\n",
    "            self.curr += ni\n",
    "            return res"
   ]
  },
  {
   "cell_type": "code",
   "execution_count": null,
   "metadata": {
    "collapsed": true,
    "hidden": true
   },
   "outputs": [],
   "source": [
    "class segm_generator(object):\n",
    "    def __init__(self, x, y, bs=64, out_sz=(224,224), train=True):\n",
    "        self.x, self.y, self.bs, self.train = x,y,bs,train\n",
    "        self.n, self.ri, self.ci, _ = x.shape\n",
    "        self.idx_gen = BatchIndices(self.n, bs, train)\n",
    "        self.ro, self.co = out_sz\n",
    "#         self.ych = self.y.shape[-1] if len(y.shape)==4 else 1\n",
    "\n",
    "    def get_slice(self, i,o):\n",
    "        start = random.randint(0, i-o) if self.train else (i-o)\n",
    "        return slice(start, start+o)\n",
    "\n",
    "    def get_item(self, idx):\n",
    "        condition =True\n",
    "        while True:\n",
    "            slice_r = self.get_slice(self.ri, self.ro)\n",
    "            slice_c = self.get_slice(self.ci, self.co)\n",
    "            x = self.x[idx, slice_r, slice_c]\n",
    "#             y = self.y[idx, slice_r, slice_c]\n",
    "            if self.train and (random.random()>0.5): \n",
    "#                 y = y[:,::-1]\n",
    "                x = x[:,::-1]\n",
    "            # Modified to create patches with atleast one sea lion\n",
    "        \n",
    "        return x, y\n",
    "\n",
    "    def __next__(self):\n",
    "        idxs = next(self.idx_gen)\n",
    "        items = (self.get_item(idx) for idx in idxs)\n",
    "        xs,ys = zip(*items)\n",
    "        return np.stack(xs), np.stack(ys)"
   ]
  },
  {
   "cell_type": "code",
   "execution_count": 21,
   "metadata": {
    "collapsed": false,
    "hidden": true
   },
   "outputs": [],
   "source": [
    "lrg_sz = (224,224)"
   ]
  },
  {
   "cell_type": "markdown",
   "metadata": {},
   "source": [
    "## Training"
   ]
  },
  {
   "cell_type": "code",
   "execution_count": 21,
   "metadata": {
    "collapsed": true
   },
   "outputs": [],
   "source": [
    "image_size = 512"
   ]
  },
  {
   "cell_type": "code",
   "execution_count": 22,
   "metadata": {
    "collapsed": true
   },
   "outputs": [],
   "source": [
    "train_set = imgs[:657]\n",
    "train_labels = y_train[:657]\n",
    "\n",
    "test_set = imgs[657:]\n",
    "test_labels = y_train[657:]"
   ]
  },
  {
   "cell_type": "code",
   "execution_count": 23,
   "metadata": {
    "collapsed": false
   },
   "outputs": [
    {
     "data": {
      "text/plain": [
       "((657, 512, 512, 3), (250, 512, 512, 3), (657, 5), (250, 5))"
      ]
     },
     "execution_count": 23,
     "metadata": {},
     "output_type": "execute_result"
    }
   ],
   "source": [
    "train_set.shape, test_set.shape, train_labels.shape, test_labels.shape"
   ]
  },
  {
   "cell_type": "code",
   "execution_count": 24,
   "metadata": {
    "collapsed": false
   },
   "outputs": [
    {
     "data": {
      "text/plain": [
       "(512, 512, 3)"
      ]
     },
     "execution_count": 24,
     "metadata": {},
     "output_type": "execute_result"
    }
   ],
   "source": [
    "input_shape = (image_size, image_size,3)\n",
    "input_shape"
   ]
  },
  {
   "cell_type": "code",
   "execution_count": 29,
   "metadata": {
    "collapsed": false
   },
   "outputs": [
    {
     "data": {
      "text/plain": [
       "'train_images_512x512/13.png'"
      ]
     },
     "execution_count": 29,
     "metadata": {},
     "output_type": "execute_result"
    }
   ],
   "source": [
    "names[4]"
   ]
  },
  {
   "cell_type": "code",
   "execution_count": 30,
   "metadata": {
    "collapsed": false,
    "scrolled": false
   },
   "outputs": [
    {
     "data": {
      "text/html": [
       "<div>\n",
       "<style>\n",
       "    .dataframe thead tr:only-child th {\n",
       "        text-align: right;\n",
       "    }\n",
       "\n",
       "    .dataframe thead th {\n",
       "        text-align: left;\n",
       "    }\n",
       "\n",
       "    .dataframe tbody tr th {\n",
       "        vertical-align: top;\n",
       "    }\n",
       "</style>\n",
       "<table border=\"1\" class=\"dataframe\">\n",
       "  <thead>\n",
       "    <tr style=\"text-align: right;\">\n",
       "      <th></th>\n",
       "      <th>train_id</th>\n",
       "      <th>adult_males</th>\n",
       "      <th>subadult_males</th>\n",
       "      <th>adult_females</th>\n",
       "      <th>juveniles</th>\n",
       "      <th>pups</th>\n",
       "    </tr>\n",
       "  </thead>\n",
       "  <tbody>\n",
       "    <tr>\n",
       "      <th>13</th>\n",
       "      <td>13</td>\n",
       "      <td>2</td>\n",
       "      <td>5</td>\n",
       "      <td>20</td>\n",
       "      <td>13</td>\n",
       "      <td>0</td>\n",
       "    </tr>\n",
       "  </tbody>\n",
       "</table>\n",
       "</div>"
      ],
      "text/plain": [
       "    train_id  adult_males  subadult_males  adult_females  juveniles  pups\n",
       "13        13            2               5             20         13     0"
      ]
     },
     "execution_count": 30,
     "metadata": {},
     "output_type": "execute_result"
    }
   ],
   "source": [
    "df[df.train_id==13]"
   ]
  },
  {
   "cell_type": "code",
   "execution_count": 31,
   "metadata": {
    "collapsed": false
   },
   "outputs": [
    {
     "data": {
      "text/plain": [
       "array([  2.,   5.,  20.,  13.,   0.])"
      ]
     },
     "execution_count": 31,
     "metadata": {},
     "output_type": "execute_result"
    }
   ],
   "source": [
    "y_train[4]"
   ]
  },
  {
   "cell_type": "code",
   "execution_count": 32,
   "metadata": {
    "collapsed": false,
    "scrolled": true
   },
   "outputs": [],
   "source": [
    "model = Sequential()\n",
    "\n",
    "model.add(Conv2D(32, 3, 3, border_mode='same', input_shape=input_shape))\n",
    "model.add(Activation('relu'))\n",
    "model.add(MaxPooling2D(pool_size=(2, 2)))\n",
    "\n",
    "model.add(Conv2D(64, 3, 3, border_mode='same'))\n",
    "model.add(Activation('relu'))\n",
    "model.add(MaxPooling2D(pool_size=(2, 2)))\n",
    "\n",
    "model.add(Conv2D(128, 3, 3, border_mode='same'))\n",
    "model.add(Activation('relu'))\n",
    "model.add(MaxPooling2D(pool_size=(2, 2)))\n",
    "\n",
    "model.add(Conv2D(n_classes, 3, 3, border_mode='same'))\n",
    "model.add(Activation('relu'))\n",
    "model.add(MaxPooling2D(pool_size=(2, 2)))\n",
    "\n",
    "model.add(GlobalAveragePooling2D())\n",
    "\n",
    "\n",
    "model.compile(loss=keras.objectives.mean_squared_error,\n",
    "        optimizer= keras.optimizers.adam(lr=0.01))"
   ]
  },
  {
   "cell_type": "code",
   "execution_count": 33,
   "metadata": {
    "collapsed": true
   },
   "outputs": [
    {
     "data": {
      "image/svg+xml": [
       "<svg height=\"1134pt\" viewBox=\"0.00 0.00 483.00 1134.00\" width=\"483pt\" xmlns=\"http://www.w3.org/2000/svg\" xmlns:xlink=\"http://www.w3.org/1999/xlink\">\n",
       "<g class=\"graph\" id=\"graph0\" transform=\"scale(1 1) rotate(0) translate(4 1130)\">\n",
       "<title>G</title>\n",
       "<polygon fill=\"white\" points=\"-4,4 -4,-1130 479,-1130 479,4 -4,4\" stroke=\"none\"/>\n",
       "<!-- 139824947223888 -->\n",
       "<g class=\"node\" id=\"node1\"><title>139824947223888</title>\n",
       "<polygon fill=\"none\" points=\"42.5,-1079.5 42.5,-1125.5 432.5,-1125.5 432.5,-1079.5 42.5,-1079.5\" stroke=\"black\"/>\n",
       "<text font-family=\"Times,serif\" font-size=\"14.00\" text-anchor=\"middle\" x=\"147.5\" y=\"-1098.8\">convolution2d_input_2: InputLayer</text>\n",
       "<polyline fill=\"none\" points=\"252.5,-1079.5 252.5,-1125.5 \" stroke=\"black\"/>\n",
       "<text font-family=\"Times,serif\" font-size=\"14.00\" text-anchor=\"middle\" x=\"280\" y=\"-1110.3\">input:</text>\n",
       "<polyline fill=\"none\" points=\"252.5,-1102.5 307.5,-1102.5 \" stroke=\"black\"/>\n",
       "<text font-family=\"Times,serif\" font-size=\"14.00\" text-anchor=\"middle\" x=\"280\" y=\"-1087.3\">output:</text>\n",
       "<polyline fill=\"none\" points=\"307.5,-1079.5 307.5,-1125.5 \" stroke=\"black\"/>\n",
       "<text font-family=\"Times,serif\" font-size=\"14.00\" text-anchor=\"middle\" x=\"370\" y=\"-1110.3\">(None, 512, 512, 3)</text>\n",
       "<polyline fill=\"none\" points=\"307.5,-1102.5 432.5,-1102.5 \" stroke=\"black\"/>\n",
       "<text font-family=\"Times,serif\" font-size=\"14.00\" text-anchor=\"middle\" x=\"370\" y=\"-1087.3\">(None, 512, 512, 3)</text>\n",
       "</g>\n",
       "<!-- 139824947223504 -->\n",
       "<g class=\"node\" id=\"node2\"><title>139824947223504</title>\n",
       "<polygon fill=\"none\" points=\"44.5,-996.5 44.5,-1042.5 430.5,-1042.5 430.5,-996.5 44.5,-996.5\" stroke=\"black\"/>\n",
       "<text font-family=\"Times,serif\" font-size=\"14.00\" text-anchor=\"middle\" x=\"144.5\" y=\"-1015.8\">convolution2d_5: Convolution2D</text>\n",
       "<polyline fill=\"none\" points=\"244.5,-996.5 244.5,-1042.5 \" stroke=\"black\"/>\n",
       "<text font-family=\"Times,serif\" font-size=\"14.00\" text-anchor=\"middle\" x=\"272\" y=\"-1027.3\">input:</text>\n",
       "<polyline fill=\"none\" points=\"244.5,-1019.5 299.5,-1019.5 \" stroke=\"black\"/>\n",
       "<text font-family=\"Times,serif\" font-size=\"14.00\" text-anchor=\"middle\" x=\"272\" y=\"-1004.3\">output:</text>\n",
       "<polyline fill=\"none\" points=\"299.5,-996.5 299.5,-1042.5 \" stroke=\"black\"/>\n",
       "<text font-family=\"Times,serif\" font-size=\"14.00\" text-anchor=\"middle\" x=\"365\" y=\"-1027.3\">(None, 512, 512, 3)</text>\n",
       "<polyline fill=\"none\" points=\"299.5,-1019.5 430.5,-1019.5 \" stroke=\"black\"/>\n",
       "<text font-family=\"Times,serif\" font-size=\"14.00\" text-anchor=\"middle\" x=\"365\" y=\"-1004.3\">(None, 512, 512, 32)</text>\n",
       "</g>\n",
       "<!-- 139824947223888&#45;&gt;139824947223504 -->\n",
       "<g class=\"edge\" id=\"edge1\"><title>139824947223888-&gt;139824947223504</title>\n",
       "<path d=\"M237.5,-1079.37C237.5,-1071.15 237.5,-1061.66 237.5,-1052.73\" fill=\"none\" stroke=\"black\"/>\n",
       "<polygon fill=\"black\" points=\"241,-1052.61 237.5,-1042.61 234,-1052.61 241,-1052.61\" stroke=\"black\"/>\n",
       "</g>\n",
       "<!-- 139824947223632 -->\n",
       "<g class=\"node\" id=\"node3\"><title>139824947223632</title>\n",
       "<polygon fill=\"none\" points=\"70.5,-913.5 70.5,-959.5 404.5,-959.5 404.5,-913.5 70.5,-913.5\" stroke=\"black\"/>\n",
       "<text font-family=\"Times,serif\" font-size=\"14.00\" text-anchor=\"middle\" x=\"144.5\" y=\"-932.8\">activation_5: Activation</text>\n",
       "<polyline fill=\"none\" points=\"218.5,-913.5 218.5,-959.5 \" stroke=\"black\"/>\n",
       "<text font-family=\"Times,serif\" font-size=\"14.00\" text-anchor=\"middle\" x=\"246\" y=\"-944.3\">input:</text>\n",
       "<polyline fill=\"none\" points=\"218.5,-936.5 273.5,-936.5 \" stroke=\"black\"/>\n",
       "<text font-family=\"Times,serif\" font-size=\"14.00\" text-anchor=\"middle\" x=\"246\" y=\"-921.3\">output:</text>\n",
       "<polyline fill=\"none\" points=\"273.5,-913.5 273.5,-959.5 \" stroke=\"black\"/>\n",
       "<text font-family=\"Times,serif\" font-size=\"14.00\" text-anchor=\"middle\" x=\"339\" y=\"-944.3\">(None, 512, 512, 32)</text>\n",
       "<polyline fill=\"none\" points=\"273.5,-936.5 404.5,-936.5 \" stroke=\"black\"/>\n",
       "<text font-family=\"Times,serif\" font-size=\"14.00\" text-anchor=\"middle\" x=\"339\" y=\"-921.3\">(None, 512, 512, 32)</text>\n",
       "</g>\n",
       "<!-- 139824947223504&#45;&gt;139824947223632 -->\n",
       "<g class=\"edge\" id=\"edge2\"><title>139824947223504-&gt;139824947223632</title>\n",
       "<path d=\"M237.5,-996.366C237.5,-988.152 237.5,-978.658 237.5,-969.725\" fill=\"none\" stroke=\"black\"/>\n",
       "<polygon fill=\"black\" points=\"241,-969.607 237.5,-959.607 234,-969.607 241,-969.607\" stroke=\"black\"/>\n",
       "</g>\n",
       "<!-- 139824947984528 -->\n",
       "<g class=\"node\" id=\"node4\"><title>139824947984528</title>\n",
       "<polygon fill=\"none\" points=\"44.5,-830.5 44.5,-876.5 430.5,-876.5 430.5,-830.5 44.5,-830.5\" stroke=\"black\"/>\n",
       "<text font-family=\"Times,serif\" font-size=\"14.00\" text-anchor=\"middle\" x=\"144.5\" y=\"-849.8\">maxpooling2d_5: MaxPooling2D</text>\n",
       "<polyline fill=\"none\" points=\"244.5,-830.5 244.5,-876.5 \" stroke=\"black\"/>\n",
       "<text font-family=\"Times,serif\" font-size=\"14.00\" text-anchor=\"middle\" x=\"272\" y=\"-861.3\">input:</text>\n",
       "<polyline fill=\"none\" points=\"244.5,-853.5 299.5,-853.5 \" stroke=\"black\"/>\n",
       "<text font-family=\"Times,serif\" font-size=\"14.00\" text-anchor=\"middle\" x=\"272\" y=\"-838.3\">output:</text>\n",
       "<polyline fill=\"none\" points=\"299.5,-830.5 299.5,-876.5 \" stroke=\"black\"/>\n",
       "<text font-family=\"Times,serif\" font-size=\"14.00\" text-anchor=\"middle\" x=\"365\" y=\"-861.3\">(None, 512, 512, 32)</text>\n",
       "<polyline fill=\"none\" points=\"299.5,-853.5 430.5,-853.5 \" stroke=\"black\"/>\n",
       "<text font-family=\"Times,serif\" font-size=\"14.00\" text-anchor=\"middle\" x=\"365\" y=\"-838.3\">(None, 256, 256, 32)</text>\n",
       "</g>\n",
       "<!-- 139824947223632&#45;&gt;139824947984528 -->\n",
       "<g class=\"edge\" id=\"edge3\"><title>139824947223632-&gt;139824947984528</title>\n",
       "<path d=\"M237.5,-913.366C237.5,-905.152 237.5,-895.658 237.5,-886.725\" fill=\"none\" stroke=\"black\"/>\n",
       "<polygon fill=\"black\" points=\"241,-886.607 237.5,-876.607 234,-886.607 241,-886.607\" stroke=\"black\"/>\n",
       "</g>\n",
       "<!-- 139824947984464 -->\n",
       "<g class=\"node\" id=\"node5\"><title>139824947984464</title>\n",
       "<polygon fill=\"none\" points=\"44.5,-747.5 44.5,-793.5 430.5,-793.5 430.5,-747.5 44.5,-747.5\" stroke=\"black\"/>\n",
       "<text font-family=\"Times,serif\" font-size=\"14.00\" text-anchor=\"middle\" x=\"144.5\" y=\"-766.8\">convolution2d_6: Convolution2D</text>\n",
       "<polyline fill=\"none\" points=\"244.5,-747.5 244.5,-793.5 \" stroke=\"black\"/>\n",
       "<text font-family=\"Times,serif\" font-size=\"14.00\" text-anchor=\"middle\" x=\"272\" y=\"-778.3\">input:</text>\n",
       "<polyline fill=\"none\" points=\"244.5,-770.5 299.5,-770.5 \" stroke=\"black\"/>\n",
       "<text font-family=\"Times,serif\" font-size=\"14.00\" text-anchor=\"middle\" x=\"272\" y=\"-755.3\">output:</text>\n",
       "<polyline fill=\"none\" points=\"299.5,-747.5 299.5,-793.5 \" stroke=\"black\"/>\n",
       "<text font-family=\"Times,serif\" font-size=\"14.00\" text-anchor=\"middle\" x=\"365\" y=\"-778.3\">(None, 256, 256, 32)</text>\n",
       "<polyline fill=\"none\" points=\"299.5,-770.5 430.5,-770.5 \" stroke=\"black\"/>\n",
       "<text font-family=\"Times,serif\" font-size=\"14.00\" text-anchor=\"middle\" x=\"365\" y=\"-755.3\">(None, 256, 256, 64)</text>\n",
       "</g>\n",
       "<!-- 139824947984528&#45;&gt;139824947984464 -->\n",
       "<g class=\"edge\" id=\"edge4\"><title>139824947984528-&gt;139824947984464</title>\n",
       "<path d=\"M237.5,-830.366C237.5,-822.152 237.5,-812.658 237.5,-803.725\" fill=\"none\" stroke=\"black\"/>\n",
       "<polygon fill=\"black\" points=\"241,-803.607 237.5,-793.607 234,-803.607 241,-803.607\" stroke=\"black\"/>\n",
       "</g>\n",
       "<!-- 139824948138256 -->\n",
       "<g class=\"node\" id=\"node6\"><title>139824948138256</title>\n",
       "<polygon fill=\"none\" points=\"70.5,-664.5 70.5,-710.5 404.5,-710.5 404.5,-664.5 70.5,-664.5\" stroke=\"black\"/>\n",
       "<text font-family=\"Times,serif\" font-size=\"14.00\" text-anchor=\"middle\" x=\"144.5\" y=\"-683.8\">activation_6: Activation</text>\n",
       "<polyline fill=\"none\" points=\"218.5,-664.5 218.5,-710.5 \" stroke=\"black\"/>\n",
       "<text font-family=\"Times,serif\" font-size=\"14.00\" text-anchor=\"middle\" x=\"246\" y=\"-695.3\">input:</text>\n",
       "<polyline fill=\"none\" points=\"218.5,-687.5 273.5,-687.5 \" stroke=\"black\"/>\n",
       "<text font-family=\"Times,serif\" font-size=\"14.00\" text-anchor=\"middle\" x=\"246\" y=\"-672.3\">output:</text>\n",
       "<polyline fill=\"none\" points=\"273.5,-664.5 273.5,-710.5 \" stroke=\"black\"/>\n",
       "<text font-family=\"Times,serif\" font-size=\"14.00\" text-anchor=\"middle\" x=\"339\" y=\"-695.3\">(None, 256, 256, 64)</text>\n",
       "<polyline fill=\"none\" points=\"273.5,-687.5 404.5,-687.5 \" stroke=\"black\"/>\n",
       "<text font-family=\"Times,serif\" font-size=\"14.00\" text-anchor=\"middle\" x=\"339\" y=\"-672.3\">(None, 256, 256, 64)</text>\n",
       "</g>\n",
       "<!-- 139824947984464&#45;&gt;139824948138256 -->\n",
       "<g class=\"edge\" id=\"edge5\"><title>139824947984464-&gt;139824948138256</title>\n",
       "<path d=\"M237.5,-747.366C237.5,-739.152 237.5,-729.658 237.5,-720.725\" fill=\"none\" stroke=\"black\"/>\n",
       "<polygon fill=\"black\" points=\"241,-720.607 237.5,-710.607 234,-720.607 241,-720.607\" stroke=\"black\"/>\n",
       "</g>\n",
       "<!-- 139824947983824 -->\n",
       "<g class=\"node\" id=\"node7\"><title>139824947983824</title>\n",
       "<polygon fill=\"none\" points=\"44.5,-581.5 44.5,-627.5 430.5,-627.5 430.5,-581.5 44.5,-581.5\" stroke=\"black\"/>\n",
       "<text font-family=\"Times,serif\" font-size=\"14.00\" text-anchor=\"middle\" x=\"144.5\" y=\"-600.8\">maxpooling2d_6: MaxPooling2D</text>\n",
       "<polyline fill=\"none\" points=\"244.5,-581.5 244.5,-627.5 \" stroke=\"black\"/>\n",
       "<text font-family=\"Times,serif\" font-size=\"14.00\" text-anchor=\"middle\" x=\"272\" y=\"-612.3\">input:</text>\n",
       "<polyline fill=\"none\" points=\"244.5,-604.5 299.5,-604.5 \" stroke=\"black\"/>\n",
       "<text font-family=\"Times,serif\" font-size=\"14.00\" text-anchor=\"middle\" x=\"272\" y=\"-589.3\">output:</text>\n",
       "<polyline fill=\"none\" points=\"299.5,-581.5 299.5,-627.5 \" stroke=\"black\"/>\n",
       "<text font-family=\"Times,serif\" font-size=\"14.00\" text-anchor=\"middle\" x=\"365\" y=\"-612.3\">(None, 256, 256, 64)</text>\n",
       "<polyline fill=\"none\" points=\"299.5,-604.5 430.5,-604.5 \" stroke=\"black\"/>\n",
       "<text font-family=\"Times,serif\" font-size=\"14.00\" text-anchor=\"middle\" x=\"365\" y=\"-589.3\">(None, 128, 128, 64)</text>\n",
       "</g>\n",
       "<!-- 139824948138256&#45;&gt;139824947983824 -->\n",
       "<g class=\"edge\" id=\"edge6\"><title>139824948138256-&gt;139824947983824</title>\n",
       "<path d=\"M237.5,-664.366C237.5,-656.152 237.5,-646.658 237.5,-637.725\" fill=\"none\" stroke=\"black\"/>\n",
       "<polygon fill=\"black\" points=\"241,-637.607 237.5,-627.607 234,-637.607 241,-637.607\" stroke=\"black\"/>\n",
       "</g>\n",
       "<!-- 139824947983888 -->\n",
       "<g class=\"node\" id=\"node8\"><title>139824947983888</title>\n",
       "<polygon fill=\"none\" points=\"41,-498.5 41,-544.5 434,-544.5 434,-498.5 41,-498.5\" stroke=\"black\"/>\n",
       "<text font-family=\"Times,serif\" font-size=\"14.00\" text-anchor=\"middle\" x=\"141\" y=\"-517.8\">convolution2d_7: Convolution2D</text>\n",
       "<polyline fill=\"none\" points=\"241,-498.5 241,-544.5 \" stroke=\"black\"/>\n",
       "<text font-family=\"Times,serif\" font-size=\"14.00\" text-anchor=\"middle\" x=\"268.5\" y=\"-529.3\">input:</text>\n",
       "<polyline fill=\"none\" points=\"241,-521.5 296,-521.5 \" stroke=\"black\"/>\n",
       "<text font-family=\"Times,serif\" font-size=\"14.00\" text-anchor=\"middle\" x=\"268.5\" y=\"-506.3\">output:</text>\n",
       "<polyline fill=\"none\" points=\"296,-498.5 296,-544.5 \" stroke=\"black\"/>\n",
       "<text font-family=\"Times,serif\" font-size=\"14.00\" text-anchor=\"middle\" x=\"365\" y=\"-529.3\">(None, 128, 128, 64)</text>\n",
       "<polyline fill=\"none\" points=\"296,-521.5 434,-521.5 \" stroke=\"black\"/>\n",
       "<text font-family=\"Times,serif\" font-size=\"14.00\" text-anchor=\"middle\" x=\"365\" y=\"-506.3\">(None, 128, 128, 128)</text>\n",
       "</g>\n",
       "<!-- 139824947983824&#45;&gt;139824947983888 -->\n",
       "<g class=\"edge\" id=\"edge7\"><title>139824947983824-&gt;139824947983888</title>\n",
       "<path d=\"M237.5,-581.366C237.5,-573.152 237.5,-563.658 237.5,-554.725\" fill=\"none\" stroke=\"black\"/>\n",
       "<polygon fill=\"black\" points=\"241,-554.607 237.5,-544.607 234,-554.607 241,-554.607\" stroke=\"black\"/>\n",
       "</g>\n",
       "<!-- 139824946997776 -->\n",
       "<g class=\"node\" id=\"node9\"><title>139824946997776</title>\n",
       "<polygon fill=\"none\" points=\"67,-415.5 67,-461.5 408,-461.5 408,-415.5 67,-415.5\" stroke=\"black\"/>\n",
       "<text font-family=\"Times,serif\" font-size=\"14.00\" text-anchor=\"middle\" x=\"141\" y=\"-434.8\">activation_7: Activation</text>\n",
       "<polyline fill=\"none\" points=\"215,-415.5 215,-461.5 \" stroke=\"black\"/>\n",
       "<text font-family=\"Times,serif\" font-size=\"14.00\" text-anchor=\"middle\" x=\"242.5\" y=\"-446.3\">input:</text>\n",
       "<polyline fill=\"none\" points=\"215,-438.5 270,-438.5 \" stroke=\"black\"/>\n",
       "<text font-family=\"Times,serif\" font-size=\"14.00\" text-anchor=\"middle\" x=\"242.5\" y=\"-423.3\">output:</text>\n",
       "<polyline fill=\"none\" points=\"270,-415.5 270,-461.5 \" stroke=\"black\"/>\n",
       "<text font-family=\"Times,serif\" font-size=\"14.00\" text-anchor=\"middle\" x=\"339\" y=\"-446.3\">(None, 128, 128, 128)</text>\n",
       "<polyline fill=\"none\" points=\"270,-438.5 408,-438.5 \" stroke=\"black\"/>\n",
       "<text font-family=\"Times,serif\" font-size=\"14.00\" text-anchor=\"middle\" x=\"339\" y=\"-423.3\">(None, 128, 128, 128)</text>\n",
       "</g>\n",
       "<!-- 139824947983888&#45;&gt;139824946997776 -->\n",
       "<g class=\"edge\" id=\"edge8\"><title>139824947983888-&gt;139824946997776</title>\n",
       "<path d=\"M237.5,-498.366C237.5,-490.152 237.5,-480.658 237.5,-471.725\" fill=\"none\" stroke=\"black\"/>\n",
       "<polygon fill=\"black\" points=\"241,-471.607 237.5,-461.607 234,-471.607 241,-471.607\" stroke=\"black\"/>\n",
       "</g>\n",
       "<!-- 139824946724240 -->\n",
       "<g class=\"node\" id=\"node10\"><title>139824946724240</title>\n",
       "<polygon fill=\"none\" points=\"41,-332.5 41,-378.5 434,-378.5 434,-332.5 41,-332.5\" stroke=\"black\"/>\n",
       "<text font-family=\"Times,serif\" font-size=\"14.00\" text-anchor=\"middle\" x=\"141\" y=\"-351.8\">maxpooling2d_7: MaxPooling2D</text>\n",
       "<polyline fill=\"none\" points=\"241,-332.5 241,-378.5 \" stroke=\"black\"/>\n",
       "<text font-family=\"Times,serif\" font-size=\"14.00\" text-anchor=\"middle\" x=\"268.5\" y=\"-363.3\">input:</text>\n",
       "<polyline fill=\"none\" points=\"241,-355.5 296,-355.5 \" stroke=\"black\"/>\n",
       "<text font-family=\"Times,serif\" font-size=\"14.00\" text-anchor=\"middle\" x=\"268.5\" y=\"-340.3\">output:</text>\n",
       "<polyline fill=\"none\" points=\"296,-332.5 296,-378.5 \" stroke=\"black\"/>\n",
       "<text font-family=\"Times,serif\" font-size=\"14.00\" text-anchor=\"middle\" x=\"365\" y=\"-363.3\">(None, 128, 128, 128)</text>\n",
       "<polyline fill=\"none\" points=\"296,-355.5 434,-355.5 \" stroke=\"black\"/>\n",
       "<text font-family=\"Times,serif\" font-size=\"14.00\" text-anchor=\"middle\" x=\"365\" y=\"-340.3\">(None, 64, 64, 128)</text>\n",
       "</g>\n",
       "<!-- 139824946997776&#45;&gt;139824946724240 -->\n",
       "<g class=\"edge\" id=\"edge9\"><title>139824946997776-&gt;139824946724240</title>\n",
       "<path d=\"M237.5,-415.366C237.5,-407.152 237.5,-397.658 237.5,-388.725\" fill=\"none\" stroke=\"black\"/>\n",
       "<polygon fill=\"black\" points=\"241,-388.607 237.5,-378.607 234,-388.607 241,-388.607\" stroke=\"black\"/>\n",
       "</g>\n",
       "<!-- 139824946724176 -->\n",
       "<g class=\"node\" id=\"node11\"><title>139824946724176</title>\n",
       "<polygon fill=\"none\" points=\"47.5,-249.5 47.5,-295.5 427.5,-295.5 427.5,-249.5 47.5,-249.5\" stroke=\"black\"/>\n",
       "<text font-family=\"Times,serif\" font-size=\"14.00\" text-anchor=\"middle\" x=\"147.5\" y=\"-268.8\">convolution2d_8: Convolution2D</text>\n",
       "<polyline fill=\"none\" points=\"247.5,-249.5 247.5,-295.5 \" stroke=\"black\"/>\n",
       "<text font-family=\"Times,serif\" font-size=\"14.00\" text-anchor=\"middle\" x=\"275\" y=\"-280.3\">input:</text>\n",
       "<polyline fill=\"none\" points=\"247.5,-272.5 302.5,-272.5 \" stroke=\"black\"/>\n",
       "<text font-family=\"Times,serif\" font-size=\"14.00\" text-anchor=\"middle\" x=\"275\" y=\"-257.3\">output:</text>\n",
       "<polyline fill=\"none\" points=\"302.5,-249.5 302.5,-295.5 \" stroke=\"black\"/>\n",
       "<text font-family=\"Times,serif\" font-size=\"14.00\" text-anchor=\"middle\" x=\"365\" y=\"-280.3\">(None, 64, 64, 128)</text>\n",
       "<polyline fill=\"none\" points=\"302.5,-272.5 427.5,-272.5 \" stroke=\"black\"/>\n",
       "<text font-family=\"Times,serif\" font-size=\"14.00\" text-anchor=\"middle\" x=\"365\" y=\"-257.3\">(None, 64, 64, 5)</text>\n",
       "</g>\n",
       "<!-- 139824946724240&#45;&gt;139824946724176 -->\n",
       "<g class=\"edge\" id=\"edge10\"><title>139824946724240-&gt;139824946724176</title>\n",
       "<path d=\"M237.5,-332.366C237.5,-324.152 237.5,-314.658 237.5,-305.725\" fill=\"none\" stroke=\"black\"/>\n",
       "<polygon fill=\"black\" points=\"241,-305.607 237.5,-295.607 234,-305.607 241,-305.607\" stroke=\"black\"/>\n",
       "</g>\n",
       "<!-- 139824946251280 -->\n",
       "<g class=\"node\" id=\"node12\"><title>139824946251280</title>\n",
       "<polygon fill=\"none\" points=\"80.5,-166.5 80.5,-212.5 394.5,-212.5 394.5,-166.5 80.5,-166.5\" stroke=\"black\"/>\n",
       "<text font-family=\"Times,serif\" font-size=\"14.00\" text-anchor=\"middle\" x=\"154.5\" y=\"-185.8\">activation_8: Activation</text>\n",
       "<polyline fill=\"none\" points=\"228.5,-166.5 228.5,-212.5 \" stroke=\"black\"/>\n",
       "<text font-family=\"Times,serif\" font-size=\"14.00\" text-anchor=\"middle\" x=\"256\" y=\"-197.3\">input:</text>\n",
       "<polyline fill=\"none\" points=\"228.5,-189.5 283.5,-189.5 \" stroke=\"black\"/>\n",
       "<text font-family=\"Times,serif\" font-size=\"14.00\" text-anchor=\"middle\" x=\"256\" y=\"-174.3\">output:</text>\n",
       "<polyline fill=\"none\" points=\"283.5,-166.5 283.5,-212.5 \" stroke=\"black\"/>\n",
       "<text font-family=\"Times,serif\" font-size=\"14.00\" text-anchor=\"middle\" x=\"339\" y=\"-197.3\">(None, 64, 64, 5)</text>\n",
       "<polyline fill=\"none\" points=\"283.5,-189.5 394.5,-189.5 \" stroke=\"black\"/>\n",
       "<text font-family=\"Times,serif\" font-size=\"14.00\" text-anchor=\"middle\" x=\"339\" y=\"-174.3\">(None, 64, 64, 5)</text>\n",
       "</g>\n",
       "<!-- 139824946724176&#45;&gt;139824946251280 -->\n",
       "<g class=\"edge\" id=\"edge11\"><title>139824946724176-&gt;139824946251280</title>\n",
       "<path d=\"M237.5,-249.366C237.5,-241.152 237.5,-231.658 237.5,-222.725\" fill=\"none\" stroke=\"black\"/>\n",
       "<polygon fill=\"black\" points=\"241,-222.607 237.5,-212.607 234,-222.607 241,-222.607\" stroke=\"black\"/>\n",
       "</g>\n",
       "<!-- 139824946867216 -->\n",
       "<g class=\"node\" id=\"node13\"><title>139824946867216</title>\n",
       "<polygon fill=\"none\" points=\"54.5,-83.5 54.5,-129.5 420.5,-129.5 420.5,-83.5 54.5,-83.5\" stroke=\"black\"/>\n",
       "<text font-family=\"Times,serif\" font-size=\"14.00\" text-anchor=\"middle\" x=\"154.5\" y=\"-102.8\">maxpooling2d_8: MaxPooling2D</text>\n",
       "<polyline fill=\"none\" points=\"254.5,-83.5 254.5,-129.5 \" stroke=\"black\"/>\n",
       "<text font-family=\"Times,serif\" font-size=\"14.00\" text-anchor=\"middle\" x=\"282\" y=\"-114.3\">input:</text>\n",
       "<polyline fill=\"none\" points=\"254.5,-106.5 309.5,-106.5 \" stroke=\"black\"/>\n",
       "<text font-family=\"Times,serif\" font-size=\"14.00\" text-anchor=\"middle\" x=\"282\" y=\"-91.3\">output:</text>\n",
       "<polyline fill=\"none\" points=\"309.5,-83.5 309.5,-129.5 \" stroke=\"black\"/>\n",
       "<text font-family=\"Times,serif\" font-size=\"14.00\" text-anchor=\"middle\" x=\"365\" y=\"-114.3\">(None, 64, 64, 5)</text>\n",
       "<polyline fill=\"none\" points=\"309.5,-106.5 420.5,-106.5 \" stroke=\"black\"/>\n",
       "<text font-family=\"Times,serif\" font-size=\"14.00\" text-anchor=\"middle\" x=\"365\" y=\"-91.3\">(None, 32, 32, 5)</text>\n",
       "</g>\n",
       "<!-- 139824946251280&#45;&gt;139824946867216 -->\n",
       "<g class=\"edge\" id=\"edge12\"><title>139824946251280-&gt;139824946867216</title>\n",
       "<path d=\"M237.5,-166.366C237.5,-158.152 237.5,-148.658 237.5,-139.725\" fill=\"none\" stroke=\"black\"/>\n",
       "<polygon fill=\"black\" points=\"241,-139.607 237.5,-129.607 234,-139.607 241,-139.607\" stroke=\"black\"/>\n",
       "</g>\n",
       "<!-- 139824946867152 -->\n",
       "<g class=\"node\" id=\"node14\"><title>139824946867152</title>\n",
       "<polygon fill=\"none\" points=\"-2.84217e-14,-0.5 -2.84217e-14,-46.5 475,-46.5 475,-0.5 -2.84217e-14,-0.5\" stroke=\"black\"/>\n",
       "<text font-family=\"Times,serif\" font-size=\"14.00\" text-anchor=\"middle\" x=\"154.5\" y=\"-19.8\">globalaveragepooling2d_2: GlobalAveragePooling2D</text>\n",
       "<polyline fill=\"none\" points=\"309,-0.5 309,-46.5 \" stroke=\"black\"/>\n",
       "<text font-family=\"Times,serif\" font-size=\"14.00\" text-anchor=\"middle\" x=\"336.5\" y=\"-31.3\">input:</text>\n",
       "<polyline fill=\"none\" points=\"309,-23.5 364,-23.5 \" stroke=\"black\"/>\n",
       "<text font-family=\"Times,serif\" font-size=\"14.00\" text-anchor=\"middle\" x=\"336.5\" y=\"-8.3\">output:</text>\n",
       "<polyline fill=\"none\" points=\"364,-0.5 364,-46.5 \" stroke=\"black\"/>\n",
       "<text font-family=\"Times,serif\" font-size=\"14.00\" text-anchor=\"middle\" x=\"419.5\" y=\"-31.3\">(None, 32, 32, 5)</text>\n",
       "<polyline fill=\"none\" points=\"364,-23.5 475,-23.5 \" stroke=\"black\"/>\n",
       "<text font-family=\"Times,serif\" font-size=\"14.00\" text-anchor=\"middle\" x=\"419.5\" y=\"-8.3\">(None, 5)</text>\n",
       "</g>\n",
       "<!-- 139824946867216&#45;&gt;139824946867152 -->\n",
       "<g class=\"edge\" id=\"edge13\"><title>139824946867216-&gt;139824946867152</title>\n",
       "<path d=\"M237.5,-83.3664C237.5,-75.1516 237.5,-65.6579 237.5,-56.7252\" fill=\"none\" stroke=\"black\"/>\n",
       "<polygon fill=\"black\" points=\"241,-56.6068 237.5,-46.6068 234,-56.6069 241,-56.6068\" stroke=\"black\"/>\n",
       "</g>\n",
       "</g>\n",
       "</svg>"
      ],
      "text/plain": [
       "<IPython.core.display.SVG object>"
      ]
     },
     "metadata": {},
     "output_type": "display_data"
    }
   ],
   "source": [
    "from IPython.display import Image, display, SVG\n",
    "from keras.utils.visualize_util import model_to_dot\n",
    "\n",
    "# Show the model in ipython notebook\n",
    "figure = SVG(model_to_dot(model, show_shapes=True).create(prog='dot', format='svg'))\n",
    "display(figure)\n",
    "\n",
    "# Save the model as png file\n",
    "from keras.utils.visualize_util import plot\n",
    "plot(model, to_file='model.png', show_shapes=True)"
   ]
  },
  {
   "cell_type": "code",
   "execution_count": 34,
   "metadata": {
    "collapsed": true
   },
   "outputs": [],
   "source": [
    "from keras.callbacks import EarlyStopping,ModelCheckpoint\n",
    "from keras_tqdm import TQDMNotebookCallback"
   ]
  },
  {
   "cell_type": "code",
   "execution_count": 35,
   "metadata": {
    "collapsed": false
   },
   "outputs": [],
   "source": [
    "early_stopping =EarlyStopping(monitor='val_loss', patience=3)\n",
    "bst_model_path = 'best.h5'\n",
    "model_checkpoint = ModelCheckpoint(bst_model_path, save_best_only=True, save_weights_only=True)"
   ]
  },
  {
   "cell_type": "code",
   "execution_count": null,
   "metadata": {
    "collapsed": false
   },
   "outputs": [
    {
     "name": "stdout",
     "output_type": "stream",
     "text": [
      "Epoch 1/200\n",
      "79s - loss: 2060.3956 - val_loss: 2670.0188\n",
      "Epoch 2/200\n"
     ]
    }
   ],
   "source": [
    "datagen = ImageDataGenerator(\n",
    "    horizontal_flip=True,\n",
    "    vertical_flip=True)\n",
    "\n",
    "model.fit_generator(generator=datagen.flow(train_set, train_labels, batch_size=4), samples_per_epoch=len(train_set),nb_epoch=200,verbose=2,\n",
    "                    validation_data=(test_set, test_labels),nb_val_samples=len(test_set), callbacks=[early_stopping,TQDMNotebookCallback(),model_checkpoint])"
   ]
  },
  {
   "cell_type": "code",
   "execution_count": null,
   "metadata": {
    "collapsed": true
   },
   "outputs": [],
   "source": []
  }
 ],
 "metadata": {
  "kernelspec": {
   "display_name": "Python [conda root]",
   "language": "python",
   "name": "conda-root-py"
  },
  "language_info": {
   "codemirror_mode": {
    "name": "ipython",
    "version": 2
   },
   "file_extension": ".py",
   "mimetype": "text/x-python",
   "name": "python",
   "nbconvert_exporter": "python",
   "pygments_lexer": "ipython2",
   "version": "2.7.13"
  },
  "widgets": {
   "state": {
    "02e3b1f779664b408e1cdddd63af5e95": {
     "views": [
      {
       "cell_index": 37
      }
     ]
    },
    "2170f65761a6480f82266e1b0a1db11e": {
     "views": [
      {
       "cell_index": 34
      }
     ]
    },
    "2cd21bae54c2419d8b891b430edb88da": {
     "views": [
      {
       "cell_index": 37
      }
     ]
    },
    "5dacbecca1884da28e1ec18ca1c2b3ae": {
     "views": [
      {
       "cell_index": 37
      }
     ]
    },
    "6e4a109c2ad349fd9c0b3bc3b7892f9d": {
     "views": [
      {
       "cell_index": 37
      }
     ]
    },
    "7ff3b27e8a5847829bcdb03c7114a4db": {
     "views": [
      {
       "cell_index": 34
      }
     ]
    },
    "8f35f785af3a413188ae81aafce916cc": {
     "views": [
      {
       "cell_index": 34
      }
     ]
    },
    "94285423ca5a4d22ae8abb14d5c4f7f4": {
     "views": [
      {
       "cell_index": 37
      }
     ]
    },
    "95cb58460a5b4a79b51b104592eb16b0": {
     "views": [
      {
       "cell_index": 37
      }
     ]
    },
    "acaaf4250a6c40e69e7bcbe0f7317d67": {
     "views": [
      {
       "cell_index": 34
      }
     ]
    },
    "c96d496f14944550867b04dcdf1144e6": {
     "views": [
      {
       "cell_index": 34
      }
     ]
    },
    "caf3f62ccae74633a43770e101cecd46": {
     "views": [
      {
       "cell_index": 37
      }
     ]
    },
    "cbb03974a5bb4ab8b7463dd14567e1b9": {
     "views": [
      {
       "cell_index": 37
      }
     ]
    },
    "e983c4aa6a404a8097c60b8da27c1e47": {
     "views": [
      {
       "cell_index": 37
      }
     ]
    },
    "efbfba6a15054709ba37ada2dac00958": {
     "views": [
      {
       "cell_index": 34
      }
     ]
    }
   },
   "version": "1.2.0"
  }
 },
 "nbformat": 4,
 "nbformat_minor": 2
}
