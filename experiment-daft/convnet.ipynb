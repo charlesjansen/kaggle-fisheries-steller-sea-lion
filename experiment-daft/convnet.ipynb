{
 "cells": [
  {
   "cell_type": "markdown",
   "metadata": {},
   "source": [
    "## Importing Packages"
   ]
  },
  {
   "cell_type": "code",
   "execution_count": 30,
   "metadata": {
    "collapsed": true,
    "scrolled": true
   },
   "outputs": [],
   "source": [
    "seal = ['adult_males', 'subadult males', 'adult females', 'juveniles', 'pups']\n",
    "rgb = [(243,8,5), (244,8,242), (87,46,10), (25,56,176), (38,174,21)]  \n",
    "cls = [0, 1, 2, 3, 4]\n",
    "hex = ['#f30805', '#f408f2', '#572e0a', '#1938b0', '#26ae15']"
   ]
  },
  {
   "cell_type": "code",
   "execution_count": 31,
   "metadata": {
    "collapsed": true
   },
   "outputs": [],
   "source": [
    "seal2rgb = dict(zip(seal,rgb))\n",
    "cls2rgb = dict(zip(cls, rgb))\n",
    "cls2hex = dict(zip(cls, hex))\n",
    "seal2cls = dict(zip(seal,cls))\n",
    "cls2seal = dict(zip(cls,seal))\n",
    "rgb2cls = dict(zip(rgb, cls))"
   ]
  },
  {
   "cell_type": "code",
   "execution_count": 22,
   "metadata": {
    "collapsed": true
   },
   "outputs": [],
   "source": [
    "import keras\n",
    "from keras.models import Sequential\n",
    "from keras.layers import Dense, Dropout, Flatten\n",
    "from keras.layers import Conv2D, MaxPooling2D, UpSampling2D, GlobalAveragePooling2D, Input, concatenate\n",
    "from keras.models import Model\n",
    "from keras import backend as K\n",
    "from keras.layers import Activation\n",
    "from keras.layers import BatchNormalization\n",
    "from keras.models import load_model\n",
    "from keras.preprocessing.image import ImageDataGenerator\n",
    "from PIL import  Image\n",
    "import numpy as np\n",
    "import pandas as pd\n",
    "import sys\n",
    "import os\n",
    "import matplotlib.pyplot as plt\n",
    "\n",
    "n_classes= 5\n",
    "batch_size= 4\n",
    "epochs= 100\n",
    "image_size= 360\n",
    "img_sz = (512,512)\n",
    "model_name= 'cnn_regression_moi'"
   ]
  },
  {
   "cell_type": "markdown",
   "metadata": {},
   "source": [
    "### Loading file names"
   ]
  },
  {
   "cell_type": "code",
   "execution_count": 11,
   "metadata": {
    "collapsed": true
   },
   "outputs": [],
   "source": [
    "trn_ids = pd.read_csv('../IDsTrainingSet.txt')\n",
    "tst_ids = pd.read_csv('../IDsforBlending.txt')"
   ]
  },
  {
   "cell_type": "code",
   "execution_count": 12,
   "metadata": {},
   "outputs": [
    {
     "data": {
      "text/plain": [
       "((0, 657), (0, 250))"
      ]
     },
     "execution_count": 12,
     "metadata": {},
     "output_type": "execute_result"
    }
   ],
   "source": [
    "trn_ids.shape, tst_ids.shape"
   ]
  },
  {
   "cell_type": "code",
   "execution_count": 13,
   "metadata": {
    "collapsed": true
   },
   "outputs": [],
   "source": [
    "trn_ids = np.array(trn_ids.columns)\n",
    "tst_ids = np.array(tst_ids.columns)"
   ]
  },
  {
   "cell_type": "code",
   "execution_count": 14,
   "metadata": {
    "scrolled": false
   },
   "outputs": [
    {
     "data": {
      "text/plain": [
       "(657, 250)"
      ]
     },
     "execution_count": 14,
     "metadata": {},
     "output_type": "execute_result"
    }
   ],
   "source": [
    "len(trn_ids), len(tst_ids)"
   ]
  },
  {
   "cell_type": "code",
   "execution_count": 15,
   "metadata": {
    "collapsed": true
   },
   "outputs": [],
   "source": [
    "fnames = ['../NOA_sealions/Train/'+str(int(i))+'.jpg' for i in trn_ids]\n",
    "tnames = ['../NOA_sealions/Train/'+str(int(i))+'.jpg' for i in tst_ids]"
   ]
  },
  {
   "cell_type": "code",
   "execution_count": 16,
   "metadata": {},
   "outputs": [
    {
     "data": {
      "text/plain": [
       "['../NOA_sealions/Train/513.jpg',\n",
       " '../NOA_sealions/Train/2.jpg',\n",
       " '../NOA_sealions/Train/516.jpg']"
      ]
     },
     "execution_count": 16,
     "metadata": {},
     "output_type": "execute_result"
    }
   ],
   "source": [
    "tnames[0:3]"
   ]
  },
  {
   "cell_type": "code",
   "execution_count": 17,
   "metadata": {
    "collapsed": true
   },
   "outputs": [],
   "source": [
    "def open_image(fn): return np.array(Image.open(fn).resize(img_sz, Image.NEAREST))\n",
    "imgs = np.stack([open_image(fn) for fn in fnames])"
   ]
  },
  {
   "cell_type": "code",
   "execution_count": 38,
   "metadata": {
    "collapsed": true
   },
   "outputs": [],
   "source": [
    "cord = pd.read_csv('../coords/coords.csv')"
   ]
  },
  {
   "cell_type": "code",
   "execution_count": 19,
   "metadata": {
    "scrolled": true
   },
   "outputs": [
    {
     "name": "stdout",
     "output_type": "stream",
     "text": [
      "x_train.shape (657, 512, 512, 3)\n",
      "y_train.shape (657, 5)\n"
     ]
    },
    {
     "name": "stderr",
     "output_type": "stream",
     "text": [
      "/home/syed_dani8/anaconda3/lib/python3.6/site-packages/ipykernel_launcher.py:5: DeprecationWarning: \n",
      ".ix is deprecated. Please use\n",
      ".loc for label based indexing or\n",
      ".iloc for positional indexing\n",
      "\n",
      "See the documentation here:\n",
      "http://pandas.pydata.org/pandas-docs/stable/indexing.html#deprecate_ix\n",
      "  \"\"\"\n"
     ]
    }
   ],
   "source": [
    "df= pd.read_csv('../NOA_sealions/Train/train.csv')\n",
    "n_train_images= len(fnames)\n",
    "y_list=[]\n",
    "for i in range(0,n_train_images): \n",
    "    row= df.ix[i] \n",
    "    y_row= np.zeros((5))\n",
    "    y_row[0]= row['adult_males']\n",
    "    y_row[1]= row['subadult_males']\n",
    "    y_row[2]= row['adult_females']\n",
    "    y_row[3]= row['juveniles']\n",
    "    y_row[4]= row['pups']\n",
    "    y_list.append(y_row)\n",
    "\n",
    "x_train= np.asarray(imgs)\n",
    "y_train= np.asarray(y_list)\n",
    "\n",
    "print('x_train.shape', x_train.shape)\n",
    "print('y_train.shape', y_train.shape)\n"
   ]
  },
  {
   "cell_type": "code",
   "execution_count": 20,
   "metadata": {},
   "outputs": [
    {
     "data": {
      "text/plain": [
       "(360, 360, 3)"
      ]
     },
     "execution_count": 20,
     "metadata": {},
     "output_type": "execute_result"
    }
   ],
   "source": [
    "input_shape = (image_size, image_size, 3)\n",
    "input_shape"
   ]
  },
  {
   "cell_type": "code",
   "execution_count": 24,
   "metadata": {},
   "outputs": [
    {
     "name": "stdout",
     "output_type": "stream",
     "text": [
      "_________________________________________________________________\n",
      "Layer (type)                 Output Shape              Param #   \n",
      "=================================================================\n",
      "conv2d_5 (Conv2D)            (None, 360, 360, 32)      896       \n",
      "_________________________________________________________________\n",
      "activation_5 (Activation)    (None, 360, 360, 32)      0         \n",
      "_________________________________________________________________\n",
      "max_pooling2d_5 (MaxPooling2 (None, 180, 180, 32)      0         \n",
      "_________________________________________________________________\n",
      "conv2d_6 (Conv2D)            (None, 180, 180, 64)      18496     \n",
      "_________________________________________________________________\n",
      "activation_6 (Activation)    (None, 180, 180, 64)      0         \n",
      "_________________________________________________________________\n",
      "max_pooling2d_6 (MaxPooling2 (None, 90, 90, 64)        0         \n",
      "_________________________________________________________________\n",
      "conv2d_7 (Conv2D)            (None, 90, 90, 128)       73856     \n",
      "_________________________________________________________________\n",
      "activation_7 (Activation)    (None, 90, 90, 128)       0         \n",
      "_________________________________________________________________\n",
      "max_pooling2d_7 (MaxPooling2 (None, 45, 45, 128)       0         \n",
      "_________________________________________________________________\n",
      "conv2d_8 (Conv2D)            (None, 45, 45, 5)         5765      \n",
      "_________________________________________________________________\n",
      "activation_8 (Activation)    (None, 45, 45, 5)         0         \n",
      "_________________________________________________________________\n",
      "max_pooling2d_8 (MaxPooling2 (None, 22, 22, 5)         0         \n",
      "_________________________________________________________________\n",
      "global_average_pooling2d_2 ( (None, 5)                 0         \n",
      "=================================================================\n",
      "Total params: 99,013\n",
      "Trainable params: 99,013\n",
      "Non-trainable params: 0\n",
      "_________________________________________________________________\n",
      "None\n"
     ]
    }
   ],
   "source": [
    "input_shape = (image_size, image_size, 3)\n",
    "\n",
    "model = Sequential()\n",
    "\n",
    "model.add(Conv2D(32, kernel_size=(3, 3), padding='same', input_shape=input_shape))\n",
    "model.add(Activation('relu'))\n",
    "model.add(MaxPooling2D(pool_size=(2, 2)))\n",
    "\n",
    "model.add(Conv2D(64, kernel_size=(3, 3), padding='same'))\n",
    "model.add(Activation('relu'))\n",
    "model.add(MaxPooling2D(pool_size=(2, 2)))\n",
    "\n",
    "model.add(Conv2D(128, kernel_size=(3, 3), padding='same'))\n",
    "model.add(Activation('relu'))\n",
    "model.add(MaxPooling2D(pool_size=(2, 2)))\n",
    "\n",
    "model.add(Conv2D(n_classes, kernel_size=(3, 3), padding='same'))\n",
    "model.add(Activation('relu'))\n",
    "model.add(MaxPooling2D(pool_size=(2, 2)))\n",
    "\n",
    "model.add(GlobalAveragePooling2D())\n",
    "\n",
    "print (model.summary())\n",
    "#sys.exit(0) #\n",
    "\n",
    "model.compile(loss=keras.losses.mean_squared_error,\n",
    "        optimizer= keras.optimizers.adam(lr=0.01))"
   ]
  },
  {
   "cell_type": "code",
   "execution_count": 25,
   "metadata": {
    "collapsed": true
   },
   "outputs": [],
   "source": [
    "class BatchIndices(object):\n",
    "    def __init__(self, n, bs, shuffle=False):\n",
    "        self.n,self.bs,self.shuffle = n,bs,shuffle\n",
    "        self.lock = threading.Lock()\n",
    "        self.reset()\n",
    "\n",
    "    def reset(self):\n",
    "        self.idxs = (np.random.permutation(self.n) \n",
    "                     if self.shuffle else np.arange(0, self.n))\n",
    "        self.curr = 0\n",
    "\n",
    "    def __next__(self):\n",
    "        with self.lock:\n",
    "            if self.curr >= self.n: self.reset()\n",
    "            ni = min(self.bs, self.n-self.curr)\n",
    "            res = self.idxs[self.curr:self.curr+ni]\n",
    "            self.curr += ni\n",
    "            return res"
   ]
  },
  {
   "cell_type": "code",
   "execution_count": 26,
   "metadata": {
    "collapsed": true
   },
   "outputs": [],
   "source": [
    "class segm_generator(object):\n",
    "    def __init__(self, x, y, bs=64, out_sz=(224,224), train=True):\n",
    "        self.x, self.y, self.bs, self.train = x,y,bs,train\n",
    "        self.n, self.ri, self.ci, _ = x.shape\n",
    "        self.idx_gen = BatchIndices(self.n, bs, train)\n",
    "        self.ro, self.co = out_sz\n",
    "        self.ych = self.y.shape[-1] if len(y.shape)==4 else 1\n",
    "\n",
    "    def get_slice(self, i,o):\n",
    "        start = random.randint(0, i-o) if self.train else (i-o)\n",
    "        return slice(start, start+o)\n",
    "\n",
    "    def get_item(self, idx):\n",
    "        condition =True\n",
    "        while True:\n",
    "            slice_r = self.get_slice(self.ri, self.ro)\n",
    "            slice_c = self.get_slice(self.ci, self.co)\n",
    "            x = self.x[idx, slice_r, slice_c]\n",
    "            y = self.y[idx, slice_r, slice_c]\n",
    "            if self.train and (random.random()>0.5): \n",
    "                y = y[:,::-1]\n",
    "                x = x[:,::-1]\n",
    "            # Modified to create patches with atleast one sea lion\n",
    "            if np.sum(y)!=0:\n",
    "                break\n",
    "        return x, y\n",
    "\n",
    "    def __next__(self):\n",
    "        idxs = next(self.idx_gen)\n",
    "        items = (self.get_item(idx) for idx in idxs)\n",
    "        xs,ys = zip(*items)\n",
    "        return np.stack(xs), np.stack(ys).reshape(len(ys), -1, self.ych)"
   ]
  },
  {
   "cell_type": "code",
   "execution_count": null,
   "metadata": {
    "collapsed": true
   },
   "outputs": [],
   "source": []
  },
  {
   "cell_type": "code",
   "execution_count": 8,
   "metadata": {},
   "outputs": [
    {
     "ename": "TypeError",
     "evalue": "__init__() missing 2 required positional arguments: 'nb_row' and 'nb_col'",
     "output_type": "error",
     "traceback": [
      "\u001b[0;31m---------------------------------------------------------------------------\u001b[0m",
      "\u001b[0;31mTypeError\u001b[0m                                 Traceback (most recent call last)",
      "\u001b[0;32m<ipython-input-8-2d50282e0107>\u001b[0m in \u001b[0;36m<module>\u001b[0;34m()\u001b[0m\n\u001b[1;32m     36\u001b[0m     \u001b[0mdf_submission\u001b[0m\u001b[0;34m.\u001b[0m\u001b[0mto_csv\u001b[0m\u001b[0;34m(\u001b[0m\u001b[0mmodel_name\u001b[0m\u001b[0;34m+\u001b[0m\u001b[0;34m'_submission_moi.csv'\u001b[0m\u001b[0;34m,\u001b[0m\u001b[0mindex\u001b[0m\u001b[0;34m=\u001b[0m\u001b[0;32mFalse\u001b[0m\u001b[0;34m)\u001b[0m\u001b[0;34m\u001b[0m\u001b[0m\n\u001b[1;32m     37\u001b[0m \u001b[0;34m\u001b[0m\u001b[0m\n\u001b[0;32m---> 38\u001b[0;31m \u001b[0mtrain\u001b[0m\u001b[0;34m(\u001b[0m\u001b[0;34m)\u001b[0m\u001b[0;34m\u001b[0m\u001b[0m\n\u001b[0m\u001b[1;32m     39\u001b[0m \u001b[0mcreate_submission\u001b[0m\u001b[0;34m(\u001b[0m\u001b[0;34m)\u001b[0m\u001b[0;34m\u001b[0m\u001b[0m\n",
      "\u001b[0;32m<ipython-input-8-2d50282e0107>\u001b[0m in \u001b[0;36mtrain\u001b[0;34m()\u001b[0m\n\u001b[1;32m      1\u001b[0m \u001b[0;32mdef\u001b[0m \u001b[0mtrain\u001b[0m\u001b[0;34m(\u001b[0m\u001b[0;34m)\u001b[0m\u001b[0;34m:\u001b[0m\u001b[0;34m\u001b[0m\u001b[0m\n\u001b[0;32m----> 2\u001b[0;31m     \u001b[0mmodel\u001b[0m\u001b[0;34m=\u001b[0m \u001b[0mget_model\u001b[0m\u001b[0;34m(\u001b[0m\u001b[0;34m)\u001b[0m\u001b[0;34m\u001b[0m\u001b[0m\n\u001b[0m\u001b[1;32m      3\u001b[0m \u001b[0;34m\u001b[0m\u001b[0m\n\u001b[1;32m      4\u001b[0m     \u001b[0mx_train\u001b[0m\u001b[0;34m,\u001b[0m\u001b[0my_train\u001b[0m\u001b[0;34m=\u001b[0m \u001b[0mload_data\u001b[0m\u001b[0;34m(\u001b[0m\u001b[0;34m'../experiment-charles/kernels/Kaggle-Sea-Lions-Solution-master/kaggle_data/train_images_512x512'\u001b[0m\u001b[0;34m)\u001b[0m\u001b[0;34m\u001b[0m\u001b[0m\n\u001b[1;32m      5\u001b[0m     \u001b[0mtrain_generator\u001b[0m \u001b[0;34m=\u001b[0m \u001b[0msegm_generator\u001b[0m\u001b[0;34m(\u001b[0m\u001b[0mx_train\u001b[0m\u001b[0;34m,\u001b[0m \u001b[0my_train\u001b[0m\u001b[0;34m,\u001b[0m \u001b[0mbatch_size\u001b[0m\u001b[0;34m=\u001b[0m\u001b[0mbatch_size\u001b[0m\u001b[0;34m,\u001b[0m \u001b[0mout_sz\u001b[0m\u001b[0;34m=\u001b[0m\u001b[0;34m(\u001b[0m\u001b[0mimage\u001b[0m\u001b[0;34m,\u001b[0m\u001b[0mimage_size\u001b[0m\u001b[0;34m)\u001b[0m \u001b[0;34m,\u001b[0m\u001b[0mtrain\u001b[0m\u001b[0;34m=\u001b[0m\u001b[0;32mTrue\u001b[0m\u001b[0;34m)\u001b[0m\u001b[0;34m\u001b[0m\u001b[0m\n",
      "\u001b[0;32m<ipython-input-5-418327da24d9>\u001b[0m in \u001b[0;36mget_model\u001b[0;34m()\u001b[0m\n\u001b[1;32m     42\u001b[0m \u001b[0;34m\u001b[0m\u001b[0m\n\u001b[1;32m     43\u001b[0m     model.add(Conv2D(32, kernel_size=(3, 3), padding='same',\n\u001b[0;32m---> 44\u001b[0;31m                      input_shape=input_shape))\n\u001b[0m\u001b[1;32m     45\u001b[0m     \u001b[0mmodel\u001b[0m\u001b[0;34m.\u001b[0m\u001b[0madd\u001b[0m\u001b[0;34m(\u001b[0m\u001b[0mActivation\u001b[0m\u001b[0;34m(\u001b[0m\u001b[0;34m'relu'\u001b[0m\u001b[0;34m)\u001b[0m\u001b[0;34m)\u001b[0m\u001b[0;34m\u001b[0m\u001b[0m\n\u001b[1;32m     46\u001b[0m     \u001b[0mmodel\u001b[0m\u001b[0;34m.\u001b[0m\u001b[0madd\u001b[0m\u001b[0;34m(\u001b[0m\u001b[0mMaxPooling2D\u001b[0m\u001b[0;34m(\u001b[0m\u001b[0mpool_size\u001b[0m\u001b[0;34m=\u001b[0m\u001b[0;34m(\u001b[0m\u001b[0;36m2\u001b[0m\u001b[0;34m,\u001b[0m \u001b[0;36m2\u001b[0m\u001b[0;34m)\u001b[0m\u001b[0;34m)\u001b[0m\u001b[0;34m)\u001b[0m\u001b[0;34m\u001b[0m\u001b[0m\n",
      "\u001b[0;31mTypeError\u001b[0m: __init__() missing 2 required positional arguments: 'nb_row' and 'nb_col'"
     ]
    }
   ],
   "source": [
    "def train():\n",
    "    model= get_model()\n",
    "    \n",
    "    x_train,y_train= load_data('../experiment-charles/kernels/Kaggle-Sea-Lions-Solution-master/kaggle_data/train_images_512x512')\n",
    "    train_generator = segm_generator(x_train, y_train, batch_size=batch_size, out_sz=(image,image_size) ,train=True)\n",
    "    #test_generator = segm_generator(test_set, test_labels, 4, out_sz=lrg_sz, train=False)\n",
    "        \n",
    "    model.fit_generator(train_generator, steps_per_epoch=len(x_train) / batch_size, epochs=epochs)\n",
    "    model.save(model_name+'_model.h5')\n",
    " \n",
    "def create_submission():\n",
    "    model = load_model(model_name+'_model.h5')\n",
    "    \n",
    "    n_test_images= 18636\n",
    "    pred_arr= np.zeros((n_test_images,n_classes),np.int32)\n",
    "    for k in range(0,n_test_images):\n",
    "        image_path= 'kaggle_data/test_images_512x512/'+str(k)+'.png'\n",
    "        print(image_path) #\n",
    "        \n",
    "        img= cv2.imread(image_path)\n",
    "        img= img[None,...]\n",
    "        pred= model.predict(img)\n",
    "        pred= pred.astype(int)\n",
    "        \n",
    "        pred_arr[k,:]= pred\n",
    "        \n",
    "    print('pred_arr.shape', pred_arr.shape)\n",
    "    pred_arr = pred_arr.clip(min=0)\n",
    "    df_submission = pd.DataFrame()\n",
    "    df_submission['test_id']= range(0,n_test_images)\n",
    "    df_submission['adult_males']= pred_arr[:,0]\n",
    "    df_submission['subadult_males']= pred_arr[:,1]\n",
    "    df_submission['adult_females']= pred_arr[:,2]\n",
    "    df_submission['juveniles']= pred_arr[:,3]\n",
    "    df_submission['pups']= pred_arr[:,4]\n",
    "    df_submission.to_csv(model_name+'_submission_moi.csv',index=False)\n",
    "   \n",
    "train()\n",
    "create_submission()"
   ]
  },
  {
   "cell_type": "code",
   "execution_count": null,
   "metadata": {
    "collapsed": true
   },
   "outputs": [],
   "source": []
  }
 ],
 "metadata": {
  "kernelspec": {
   "display_name": "Python 3",
   "language": "python",
   "name": "python3"
  },
  "language_info": {
   "codemirror_mode": {
    "name": "ipython",
    "version": 3
   },
   "file_extension": ".py",
   "mimetype": "text/x-python",
   "name": "python",
   "nbconvert_exporter": "python",
   "pygments_lexer": "ipython3",
   "version": "3.6.1"
  }
 },
 "nbformat": 4,
 "nbformat_minor": 2
}
